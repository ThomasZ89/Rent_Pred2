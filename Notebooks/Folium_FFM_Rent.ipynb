{
  "nbformat": 4,
  "nbformat_minor": 0,
  "metadata": {
    "colab": {
      "name": "Folium FFM Rent.ipynb",
      "provenance": [],
      "collapsed_sections": [],
      "authorship_tag": "ABX9TyN+HpH2XkPm172RfQmGHUhT",
      "include_colab_link": true
    },
    "kernelspec": {
      "name": "python3",
      "display_name": "Python 3"
    }
  },
  "cells": [
    {
      "cell_type": "markdown",
      "metadata": {
        "id": "view-in-github",
        "colab_type": "text"
      },
      "source": [
        "<a href=\"https://colab.research.google.com/github/ThomasZ89/Rent_Pred2/blob/master/Notebooks/Folium_FFM_Rent.ipynb\" target=\"_parent\"><img src=\"https://colab.research.google.com/assets/colab-badge.svg\" alt=\"Open In Colab\"/></a>"
      ]
    },
    {
      "cell_type": "code",
      "metadata": {
        "id": "BIHHbgc8zENJ",
        "colab_type": "code",
        "colab": {}
      },
      "source": [
        "!pip install geopandas\n",
        "import pandas as pd\n",
        "import geopandas as gpd\n",
        "import numpy as np\n",
        "import json\n",
        "import folium"
      ],
      "execution_count": null,
      "outputs": []
    },
    {
      "cell_type": "code",
      "metadata": {
        "id": "27rEu9WOsmzW",
        "colab_type": "code",
        "colab": {}
      },
      "source": [
        "plz_map = pd.read_excel (r\"/content/plz_mapping.xlsx\")\n",
        "plz_map[\"plz\"] = plz_map[\"plz\"].astype(str)"
      ],
      "execution_count": null,
      "outputs": []
    },
    {
      "cell_type": "code",
      "metadata": {
        "id": "YLJqHxl-B8qp",
        "colab_type": "code",
        "colab": {}
      },
      "source": [
        "#geojson  = gpd.read_file(\"plz-gebiete.json\")\n",
        "#gdf.to_file(\"output.json\", driver=\"GeoJSON\")\n",
        "#with open('/content/output.json') as json_file:\n",
        "#    data = json.load(json_file)\n",
        "#data = '/content/output.json'"
      ],
      "execution_count": null,
      "outputs": []
    },
    {
      "cell_type": "code",
      "metadata": {
        "id": "NKdYdRRUz5jY",
        "colab_type": "code",
        "colab": {}
      },
      "source": [
        "PLZ_coeff = pd.read_csv(\"/content/PLZ_param.csv\")\n",
        "PLZ_coeff.columns = [\"Name\",\"coeff\",\"plz\"]\n",
        "PLZ_coeff[\"plz\"] = PLZ_coeff[\"plz\"].astype(str)\n",
        "PLZ_coeff[\"coeff\"] = PLZ_coeff[\"coeff\"].astype(int)"
      ],
      "execution_count": null,
      "outputs": []
    },
    {
      "cell_type": "code",
      "metadata": {
        "id": "0dX7ZVln0sOD",
        "colab_type": "code",
        "colab": {}
      },
      "source": [
        "plz_shape_df = gpd.read_file('/content/plz-gebiete.shp')"
      ],
      "execution_count": null,
      "outputs": []
    },
    {
      "cell_type": "code",
      "metadata": {
        "id": "WpmV6WVH0xuL",
        "colab_type": "code",
        "colab": {}
      },
      "source": [
        "gdf = pd.merge(\n",
        "    left=plz_shape_df, \n",
        "    right=PLZ_coeff, \n",
        "    on='plz',\n",
        "    how='inner'\n",
        ")"
      ],
      "execution_count": null,
      "outputs": []
    },
    {
      "cell_type": "code",
      "metadata": {
        "id": "9ZkkYHh6umXu",
        "colab_type": "code",
        "colab": {}
      },
      "source": [
        "gdf = pd.merge(\n",
        "    left=gdf, \n",
        "    right=plz_map, \n",
        "    on='plz',\n",
        "    how='left'\n",
        ")"
      ],
      "execution_count": null,
      "outputs": []
    },
    {
      "cell_type": "code",
      "metadata": {
        "id": "uFQtXkhv0-vA",
        "colab_type": "code",
        "colab": {
          "base_uri": "https://localhost:8080/",
          "height": 139
        },
        "outputId": "4d1e9772-9e8c-401a-ec84-bcb92c63adb4"
      },
      "source": [
        "gdf['centroid_lon'] = gdf['geometry'].centroid.x\n",
        "gdf['centroid_lat'] = gdf['geometry'].centroid.y"
      ],
      "execution_count": null,
      "outputs": [
        {
          "output_type": "stream",
          "text": [
            "/usr/local/lib/python3.6/dist-packages/ipykernel_launcher.py:1: UserWarning: Geometry is in a geographic CRS. Results from 'centroid' are likely incorrect. Use 'GeoSeries.to_crs()' to re-project geometries to a projected CRS before this operation.\n",
            "\n",
            "  \"\"\"Entry point for launching an IPython kernel.\n",
            "/usr/local/lib/python3.6/dist-packages/ipykernel_launcher.py:2: UserWarning: Geometry is in a geographic CRS. Results from 'centroid' are likely incorrect. Use 'GeoSeries.to_crs()' to re-project geometries to a projected CRS before this operation.\n",
            "\n",
            "  \n"
          ],
          "name": "stderr"
        }
      ]
    },
    {
      "cell_type": "code",
      "metadata": {
        "id": "nX0Uu1Zc1AQt",
        "colab_type": "code",
        "colab": {
          "base_uri": "https://localhost:8080/",
          "height": 88
        },
        "outputId": "d1527e06-6444-4bfe-9781-037b1da369b8"
      },
      "source": [
        "m = folium.Map(location=[np.median(gdf['centroid_lat'].tolist()),\n",
        "                         np.median(gdf['centroid_lon'].tolist())],\n",
        "               tiles='Stamen Toner', zoom_start=12)\n",
        "\n",
        "## add chloropleth layer\n",
        "m.choropleth(\n",
        "    geo_data=gdf,\n",
        "    name='Rent coefficient',\n",
        "    data=gdf,\n",
        "    columns=['plz', 'coeff',\"name\"],\n",
        "    fill_color='YlOrRd',\n",
        "    fill_opacity=0.7,\n",
        "    line_opacity=0.5,\n",
        "    key_on='feature.properties.plz',\n",
        "    legend_name='Rent Price coefficient'\n",
        ")  \n",
        "\n",
        "# add markers with basic information\n",
        "fg = folium.FeatureGroup(name='District Info')\n",
        "for lat, lon, val, name in zip(gdf['centroid_lat'].tolist(),\n",
        "                               gdf['centroid_lon'].tolist(),\n",
        "                               gdf['coeff'].tolist(),\n",
        "                               gdf['Stadtteil'].tolist()):\n",
        "    html = f\"\"\"\n",
        "    <h2>{name}<\\h2><br>\n",
        "    <h4>Coefficient is {int(round(val,0))} <\\h4>\n",
        "    \"\"\"\n",
        "    fg.add_child(folium.Marker(location=[lat, lon], popup=html))\n",
        "\n",
        "m.add_child(fg)\n",
        "\n",
        "# enable layers to be turned in or out\n",
        "folium.LayerControl().add_to(m)"
      ],
      "execution_count": null,
      "outputs": [
        {
          "output_type": "stream",
          "text": [
            "/usr/local/lib/python3.6/dist-packages/folium/folium.py:426: FutureWarning: The choropleth  method has been deprecated. Instead use the new Choropleth class, which has the same arguments. See the example notebook 'GeoJSON_and_choropleth' for how to do this.\n",
            "  FutureWarning\n"
          ],
          "name": "stderr"
        },
        {
          "output_type": "execute_result",
          "data": {
            "text/plain": [
              "<folium.map.LayerControl at 0x7f07cc1e8cc0>"
            ]
          },
          "metadata": {
            "tags": []
          },
          "execution_count": 50
        }
      ]
    },
    {
      "cell_type": "code",
      "metadata": {
        "id": "2hvn3lbd1j-a",
        "colab_type": "code",
        "colab": {}
      },
      "source": [
        "m"
      ],
      "execution_count": null,
      "outputs": []
    },
    {
      "cell_type": "code",
      "metadata": {
        "id": "e8Lt4Eco24ZI",
        "colab_type": "code",
        "colab": {}
      },
      "source": [
        "m.save('map.html')"
      ],
      "execution_count": null,
      "outputs": []
    },
    {
      "cell_type": "code",
      "metadata": {
        "id": "tRkr-BnF5CHT",
        "colab_type": "code",
        "colab": {
          "base_uri": "https://localhost:8080/",
          "height": 34
        },
        "outputId": "45f0b3c6-b725-447f-d8ca-36b3b59348b4"
      },
      "source": [
        "type(m)"
      ],
      "execution_count": null,
      "outputs": [
        {
          "output_type": "execute_result",
          "data": {
            "text/plain": [
              "folium.folium.Map"
            ]
          },
          "metadata": {
            "tags": []
          },
          "execution_count": 49
        }
      ]
    },
    {
      "cell_type": "code",
      "metadata": {
        "id": "y1NCzi1G5Cvf",
        "colab_type": "code",
        "colab": {}
      },
      "source": [
        ""
      ],
      "execution_count": null,
      "outputs": []
    },
    {
      "cell_type": "code",
      "metadata": {
        "id": "6SV8yvXX5C2C",
        "colab_type": "code",
        "colab": {}
      },
      "source": [
        ""
      ],
      "execution_count": null,
      "outputs": []
    },
    {
      "cell_type": "code",
      "metadata": {
        "id": "clc3zYoj5bgO",
        "colab_type": "code",
        "colab": {}
      },
      "source": [
        ""
      ],
      "execution_count": null,
      "outputs": []
    }
  ]
}