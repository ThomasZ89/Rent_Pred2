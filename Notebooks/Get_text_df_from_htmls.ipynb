{
 "cells": [
  {
   "cell_type": "code",
   "execution_count": 1,
   "metadata": {},
   "outputs": [],
   "source": [
    "import pandas as pd\n",
    "import numpy as np\n",
    "import nltk  \n",
    "import numpy as np  \n",
    "import random  \n",
    "import string\n",
    "from bs4 import BeautifulSoup\n",
    "import bs4 as bs  \n",
    "import urllib.request  \n",
    "import re  \n",
    "import os\n",
    "from zipfile import ZipFile\n",
    "\n",
    "import catboost\n",
    "from catboost import CatBoostRegressor\n",
    "from catboost import Pool, cv\n",
    "from sklearn.model_selection import train_test_split\n",
    "\n",
    "\n",
    "from datetime import datetime\n",
    "\n",
    "\n",
    "pd.set_option('display.max_colwidth', -1)"
   ]
  },
  {
   "cell_type": "code",
   "execution_count": 2,
   "metadata": {},
   "outputs": [],
   "source": [
    "def zip_files(source_dir):\n",
    "    for filename in os.listdir(source_dir):\n",
    "        if filename.endswith('.zip'):\n",
    "            yield filename\n",
    "            \n",
    "def clean_string(liste):\n",
    "    #liste = Flatten(liste)\n",
    "    #liste = \" \".join(liste)\n",
    "    liste =  re.sub(r\"[\\W\\_]|\\d+\", ' ', liste)\n",
    "    liste = \" \".join(liste.split())\n",
    "    liste = liste.lower()\n",
    "    \n",
    "    return liste\n",
    "\n",
    "def Flatten(ul):\n",
    "    fl = []\n",
    "    for i in ul:\n",
    "        if type(i) is list:\n",
    "            fl += Flatten(i)\n",
    "        else:\n",
    "            fl += [i]\n",
    "    return fl\n",
    "\n",
    "def get_main_text(soup):\n",
    "    text = soup.find(id=\"ad_description_text\").text\n",
    "    text = clean_string(text)\n",
    "    cut_string = \"html ad container nextsibling\"\n",
    "    return text.split(cut_string,1)[1] "
   ]
  },
  {
   "cell_type": "code",
   "execution_count": 3,
   "metadata": {},
   "outputs": [
    {
     "name": "stdout",
     "output_type": "stream",
     "text": [
      "14788\r"
     ]
    }
   ],
   "source": [
    "#Get text\n",
    "source_dir = r'C:\\Users\\Thomas.Zoellinger\\Documents\\Jupyter Notebooks\\Files'\n",
    "data_dict ={}\n",
    "data = {}\n",
    "i= 0\n",
    "file_num = len(os.listdir(source_dir))\n",
    "file_num = 1\n",
    "\n",
    "file_names = []\n",
    "all_text = []\n",
    "\n",
    "for file in zip_files(source_dir):\n",
    "    print(i, end='\\r')\n",
    "    file_dir = source_dir + \"\\\\\" + file\n",
    "    with ZipFile(file=file_dir) as zip_file:\n",
    "        try:\n",
    "            bs = zip_file.read(zip_file.namelist()[0]).decode('utf8')\n",
    "            soup = BeautifulSoup(bs, \"html.parser\")\n",
    "            text = get_main_text(soup)\n",
    "            all_text.append(text)\n",
    "            file_names.append(file)\n",
    "        except:\n",
    "            pass\n",
    "        i += 1\n"
   ]
  },
  {
   "cell_type": "code",
   "execution_count": 4,
   "metadata": {},
   "outputs": [],
   "source": [
    "text_df = pd.DataFrame(all_text)\n",
    "text_df[\"name\"] = file_names\n",
    "text_df.columns = [\"text\", \"name\"]"
   ]
  },
  {
   "cell_type": "code",
   "execution_count": 5,
   "metadata": {},
   "outputs": [],
   "source": [
    "filtered_df = pd.read_csv(r'C:\\Users\\Thomas.Zoellinger\\Documents\\Jupyter Notebooks\\Housing\\filtered_df.csv', usecols=[\"gesamtmiete\", \"direct_link\"])\n",
    "text_df[\"name\"]= \"https://www.wg-gesucht.de/wg-zimmer-in-Frankfurt-am-Main-\" + text_df[\"name\"].str.lower().str.slice(0,-4) + \".html\"\n",
    "merged = pd.merge(filtered_df,text_df, left_on='direct_link', right_on='name')\n",
    "merged = merged.drop(columns=[\"direct_link\"])\n",
    "merged['name_length']  = merged['text'].str.len()\n",
    "merged= merged.query(\"name_length > 50\")\n",
    "merged['rank'] = pd.qcut(merged['gesamtmiete'], 5, labels=False)"
   ]
  },
  {
   "cell_type": "code",
   "execution_count": 11,
   "metadata": {
    "scrolled": true
   },
   "outputs": [
    {
     "data": {
      "text/plain": [
       "3    2909\n",
       "1    2677\n",
       "0    2553\n",
       "2    2345\n",
       "4    2141\n",
       "Name: rank, dtype: int64"
      ]
     },
     "execution_count": 11,
     "metadata": {},
     "output_type": "execute_result"
    }
   ],
   "source": [
    "merged[\"rank\"].value_counts()"
   ]
  },
  {
   "cell_type": "code",
   "execution_count": 6,
   "metadata": {},
   "outputs": [],
   "source": [
    "merged.to_csv(\"housing_text.csv\")"
   ]
  },
  {
   "cell_type": "code",
   "execution_count": 47,
   "metadata": {},
   "outputs": [
    {
     "data": {
      "text/plain": [
       "11801"
      ]
     },
     "execution_count": 47,
     "metadata": {},
     "output_type": "execute_result"
    }
   ],
   "source": [
    "len(merged)"
   ]
  },
  {
   "cell_type": "code",
   "execution_count": 3,
   "metadata": {},
   "outputs": [
    {
     "name": "stdout",
     "output_type": "stream",
     "text": [
      "14175\r"
     ]
    }
   ],
   "source": [
    "source_dir = r'C:\\Users\\Thomas.Zoellinger\\Documents\\Jupyter Notebooks\\Files'\n",
    "data_dict ={}\n",
    "data = {}\n",
    "i= 0\n",
    "file_num = len(os.listdir(source_dir))\n",
    "#file_num = 100\n",
    "\n",
    "file_names = []\n",
    "\n",
    "for file in zip_files(source_dir):\n",
    "    print(i, end='\\r')\n",
    "    file_dir = source_dir + \"\\\\\" + file\n",
    "    with ZipFile(file=file_dir) as zip_file:\n",
    "        try:\n",
    "            bs = zip_file.read(zip_file.namelist()[0]).decode('utf8')\n",
    "            soup = BeautifulSoup(bs, \"html.parser\")\n",
    "            text = get_main_text(soup)\n",
    "            for word in text.split():\n",
    "                val = data.get(word, [0] * file_num)\n",
    "                #print(i)\n",
    "                val[i] += 1\n",
    "                data[word] = val\n",
    "            file_names.append(file)\n",
    "            if i == file_num-1:\n",
    "                break\n",
    "        except:\n",
    "            file_names.append(file)\n",
    "            if i == file_num-1:\n",
    "                break\n",
    "            pass\n",
    "        i += 1\n"
   ]
  },
  {
   "cell_type": "code",
   "execution_count": 4,
   "metadata": {},
   "outputs": [],
   "source": [
    "df = pd.DataFrame(data)\n",
    "df.replace(0, np.nan, inplace=True)"
   ]
  },
  {
   "cell_type": "code",
   "execution_count": 5,
   "metadata": {},
   "outputs": [
    {
     "data": {
      "text/plain": [
       "6498505.344"
      ]
     },
     "execution_count": 5,
     "metadata": {},
     "output_type": "execute_result"
    }
   ],
   "source": [
    "df.memory_usage().sum() / 1e3"
   ]
  },
  {
   "cell_type": "code",
   "execution_count": 6,
   "metadata": {},
   "outputs": [],
   "source": [
    "df = df.astype(pd.SparseDtype(\"float\", np.nan))"
   ]
  },
  {
   "cell_type": "code",
   "execution_count": 7,
   "metadata": {},
   "outputs": [
    {
     "data": {
      "text/plain": [
       "27772.124"
      ]
     },
     "execution_count": 7,
     "metadata": {},
     "output_type": "execute_result"
    }
   ],
   "source": [
    "df.memory_usage().sum() / 1e3"
   ]
  },
  {
   "cell_type": "code",
   "execution_count": 8,
   "metadata": {},
   "outputs": [],
   "source": [
    "df = df.dropna(thresh=len(df) - len(df)*0.995, axis=1)"
   ]
  },
  {
   "cell_type": "code",
   "execution_count": 9,
   "metadata": {},
   "outputs": [
    {
     "data": {
      "text/plain": [
       "24194.108"
      ]
     },
     "execution_count": 9,
     "metadata": {},
     "output_type": "execute_result"
    }
   ],
   "source": [
    "df.memory_usage().sum() / 1e3"
   ]
  },
  {
   "cell_type": "code",
   "execution_count": 10,
   "metadata": {},
   "outputs": [],
   "source": [
    "df[\"file\"] = file_names\n",
    "filtered_df = pd.read_csv(r'C:\\Users\\Thomas.Zoellinger\\Documents\\Jupyter Notebooks\\Housing\\filtered_df.csv', usecols=[\"gesamtmiete\", \"direct_link\"])\n",
    "df[\"file\"]= \"https://www.wg-gesucht.de/wg-zimmer-in-Frankfurt-am-Main-\" + df[\"file\"].str.lower().str.slice(0,-4) + \".html\""
   ]
  },
  {
   "cell_type": "code",
   "execution_count": 11,
   "metadata": {},
   "outputs": [],
   "source": [
    "merged = pd.merge(filtered_df,df, left_on='direct_link', right_on='file')"
   ]
  },
  {
   "cell_type": "code",
   "execution_count": 118,
   "metadata": {},
   "outputs": [],
   "source": []
  },
  {
   "cell_type": "code",
   "execution_count": 119,
   "metadata": {},
   "outputs": [],
   "source": []
  },
  {
   "cell_type": "code",
   "execution_count": null,
   "metadata": {},
   "outputs": [],
   "source": []
  },
  {
   "cell_type": "code",
   "execution_count": null,
   "metadata": {},
   "outputs": [],
   "source": []
  },
  {
   "cell_type": "code",
   "execution_count": null,
   "metadata": {},
   "outputs": [],
   "source": []
  },
  {
   "cell_type": "code",
   "execution_count": 9,
   "metadata": {},
   "outputs": [],
   "source": []
  },
  {
   "cell_type": "code",
   "execution_count": null,
   "metadata": {},
   "outputs": [],
   "source": []
  }
 ],
 "metadata": {
  "kernelspec": {
   "display_name": "Python 3",
   "language": "python",
   "name": "python3"
  },
  "language_info": {
   "codemirror_mode": {
    "name": "ipython",
    "version": 3
   },
   "file_extension": ".py",
   "mimetype": "text/x-python",
   "name": "python",
   "nbconvert_exporter": "python",
   "pygments_lexer": "ipython3",
   "version": "3.7.6"
  }
 },
 "nbformat": 4,
 "nbformat_minor": 4
}
